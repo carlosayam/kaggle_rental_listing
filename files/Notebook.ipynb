{
 "cells": [
  {
   "cell_type": "markdown",
   "metadata": {},
   "source": [
    "# Tow Sigma Connect - Rental listing challenge\n",
    "\n",
    "This python notebook explores a solution to above challenge in [Kaggle](https://www.kaggle.com/c/two-sigma-connect-rental-listing-inquiries)\n",
    "\n",
    "The data files are located in `../data` but it does not include all the images, just the ones listed in the challenge.\n",
    "\n",
    "## Data definition\n",
    "\n",
    "There are two files, `train.json` and `test.json`. It is a dictionary of different _columns_. Each of those is in turn another dictionary where the keys are property IDs and the values are the corresponding values for that _column_. This format is available in [pandas.read_json](https://pandas.pydata.org/pandas-docs/stable/generated/pandas.read_json.html) and we will use that library to load the data."
   ]
  },
  {
   "cell_type": "code",
   "execution_count": 1,
   "metadata": {},
   "outputs": [],
   "source": [
    "import pandas\n",
    "training_data = pandas.read_json('../data/train.json', orient='columns')"
   ]
  },
  {
   "cell_type": "markdown",
   "metadata": {},
   "source": [
    "We can get a list of all available column values"
   ]
  },
  {
   "cell_type": "code",
   "execution_count": 2,
   "metadata": {},
   "outputs": [
    {
     "data": {
      "text/plain": [
       "['bathrooms',\n",
       " 'bedrooms',\n",
       " 'building_id',\n",
       " 'created',\n",
       " 'description',\n",
       " 'display_address',\n",
       " 'features',\n",
       " 'interest_level',\n",
       " 'latitude',\n",
       " 'listing_id',\n",
       " 'longitude',\n",
       " 'manager_id',\n",
       " 'photos',\n",
       " 'price',\n",
       " 'street_address']"
      ]
     },
     "execution_count": 2,
     "metadata": {},
     "output_type": "execute_result"
    }
   ],
   "source": [
    "list(training_data)"
   ]
  },
  {
   "cell_type": "markdown",
   "metadata": {},
   "source": [
    "The target variable is `interest_level`, which contains the values \"low\", \"medium\", \"high\". The challenge in Kaggle is defined as a multiclass classification problem and the submissions were evaluated using multi-class logarithmic loss. This is at odds with the fact that the classes constitute an ordinal value and this structure could be exploited by a predictor but we will stick with that in our modelling. Let's quickly map those classes into three columns and get some descriptive statistics."
   ]
  },
  {
   "cell_type": "code",
   "execution_count": 3,
   "metadata": {},
   "outputs": [
    {
     "data": {
      "text/html": [
       "<div>\n",
       "<style>\n",
       "    .dataframe thead tr:only-child th {\n",
       "        text-align: right;\n",
       "    }\n",
       "\n",
       "    .dataframe thead th {\n",
       "        text-align: left;\n",
       "    }\n",
       "\n",
       "    .dataframe tbody tr th {\n",
       "        vertical-align: top;\n",
       "    }\n",
       "</style>\n",
       "<table border=\"1\" class=\"dataframe\">\n",
       "  <thead>\n",
       "    <tr style=\"text-align: right;\">\n",
       "      <th></th>\n",
       "      <th>bathrooms</th>\n",
       "      <th>bedrooms</th>\n",
       "      <th>latitude</th>\n",
       "      <th>listing_id</th>\n",
       "      <th>longitude</th>\n",
       "      <th>price</th>\n",
       "      <th>klass_low</th>\n",
       "      <th>klass_medium</th>\n",
       "      <th>klass_high</th>\n",
       "    </tr>\n",
       "  </thead>\n",
       "  <tbody>\n",
       "    <tr>\n",
       "      <th>count</th>\n",
       "      <td>49352.00000</td>\n",
       "      <td>49352.000000</td>\n",
       "      <td>49352.000000</td>\n",
       "      <td>4.935200e+04</td>\n",
       "      <td>49352.000000</td>\n",
       "      <td>4.935200e+04</td>\n",
       "      <td>49352.000000</td>\n",
       "      <td>49352.000000</td>\n",
       "      <td>49352.000000</td>\n",
       "    </tr>\n",
       "    <tr>\n",
       "      <th>mean</th>\n",
       "      <td>1.21218</td>\n",
       "      <td>1.541640</td>\n",
       "      <td>40.741545</td>\n",
       "      <td>7.024055e+06</td>\n",
       "      <td>-73.955716</td>\n",
       "      <td>3.830174e+03</td>\n",
       "      <td>0.694683</td>\n",
       "      <td>0.227529</td>\n",
       "      <td>0.077788</td>\n",
       "    </tr>\n",
       "    <tr>\n",
       "      <th>std</th>\n",
       "      <td>0.50142</td>\n",
       "      <td>1.115018</td>\n",
       "      <td>0.638535</td>\n",
       "      <td>1.262746e+05</td>\n",
       "      <td>1.177912</td>\n",
       "      <td>2.206687e+04</td>\n",
       "      <td>0.460546</td>\n",
       "      <td>0.419241</td>\n",
       "      <td>0.267841</td>\n",
       "    </tr>\n",
       "    <tr>\n",
       "      <th>min</th>\n",
       "      <td>0.00000</td>\n",
       "      <td>0.000000</td>\n",
       "      <td>0.000000</td>\n",
       "      <td>6.811957e+06</td>\n",
       "      <td>-118.271000</td>\n",
       "      <td>4.300000e+01</td>\n",
       "      <td>0.000000</td>\n",
       "      <td>0.000000</td>\n",
       "      <td>0.000000</td>\n",
       "    </tr>\n",
       "    <tr>\n",
       "      <th>25%</th>\n",
       "      <td>1.00000</td>\n",
       "      <td>1.000000</td>\n",
       "      <td>40.728300</td>\n",
       "      <td>6.915888e+06</td>\n",
       "      <td>-73.991700</td>\n",
       "      <td>2.500000e+03</td>\n",
       "      <td>0.000000</td>\n",
       "      <td>0.000000</td>\n",
       "      <td>0.000000</td>\n",
       "    </tr>\n",
       "    <tr>\n",
       "      <th>50%</th>\n",
       "      <td>1.00000</td>\n",
       "      <td>1.000000</td>\n",
       "      <td>40.751800</td>\n",
       "      <td>7.021070e+06</td>\n",
       "      <td>-73.977900</td>\n",
       "      <td>3.150000e+03</td>\n",
       "      <td>1.000000</td>\n",
       "      <td>0.000000</td>\n",
       "      <td>0.000000</td>\n",
       "    </tr>\n",
       "    <tr>\n",
       "      <th>75%</th>\n",
       "      <td>1.00000</td>\n",
       "      <td>2.000000</td>\n",
       "      <td>40.774300</td>\n",
       "      <td>7.128733e+06</td>\n",
       "      <td>-73.954800</td>\n",
       "      <td>4.100000e+03</td>\n",
       "      <td>1.000000</td>\n",
       "      <td>0.000000</td>\n",
       "      <td>0.000000</td>\n",
       "    </tr>\n",
       "    <tr>\n",
       "      <th>max</th>\n",
       "      <td>10.00000</td>\n",
       "      <td>8.000000</td>\n",
       "      <td>44.883500</td>\n",
       "      <td>7.753784e+06</td>\n",
       "      <td>0.000000</td>\n",
       "      <td>4.490000e+06</td>\n",
       "      <td>1.000000</td>\n",
       "      <td>1.000000</td>\n",
       "      <td>1.000000</td>\n",
       "    </tr>\n",
       "  </tbody>\n",
       "</table>\n",
       "</div>"
      ],
      "text/plain": [
       "         bathrooms      bedrooms      latitude    listing_id     longitude  \\\n",
       "count  49352.00000  49352.000000  49352.000000  4.935200e+04  49352.000000   \n",
       "mean       1.21218      1.541640     40.741545  7.024055e+06    -73.955716   \n",
       "std        0.50142      1.115018      0.638535  1.262746e+05      1.177912   \n",
       "min        0.00000      0.000000      0.000000  6.811957e+06   -118.271000   \n",
       "25%        1.00000      1.000000     40.728300  6.915888e+06    -73.991700   \n",
       "50%        1.00000      1.000000     40.751800  7.021070e+06    -73.977900   \n",
       "75%        1.00000      2.000000     40.774300  7.128733e+06    -73.954800   \n",
       "max       10.00000      8.000000     44.883500  7.753784e+06      0.000000   \n",
       "\n",
       "              price     klass_low  klass_medium    klass_high  \n",
       "count  4.935200e+04  49352.000000  49352.000000  49352.000000  \n",
       "mean   3.830174e+03      0.694683      0.227529      0.077788  \n",
       "std    2.206687e+04      0.460546      0.419241      0.267841  \n",
       "min    4.300000e+01      0.000000      0.000000      0.000000  \n",
       "25%    2.500000e+03      0.000000      0.000000      0.000000  \n",
       "50%    3.150000e+03      1.000000      0.000000      0.000000  \n",
       "75%    4.100000e+03      1.000000      0.000000      0.000000  \n",
       "max    4.490000e+06      1.000000      1.000000      1.000000  "
      ]
     },
     "execution_count": 3,
     "metadata": {},
     "output_type": "execute_result"
    }
   ],
   "source": [
    "for klass in ['low', 'medium', 'high']:\n",
    "    klass_name = 'klass_%s' % klass\n",
    "    fun_klass = lambda v: (1 if v == klass else 0)\n",
    "    training_data[klass_name] = training_data['interest_level'].map(fun_klass, na_action='ignore')\n",
    "\n",
    "# output summary statistics for numeric columns\n",
    "training_data.describe()"
   ]
  },
  {
   "cell_type": "markdown",
   "metadata": {},
   "source": [
    "At a glance, we see the overall probabilities for each class, $P(low) = 0.695$, $P(medium) = 0.228$ and $P(high) = 0.078$ - a highly unbalanced classification."
   ]
  },
  {
   "cell_type": "code",
   "execution_count": 4,
   "metadata": {},
   "outputs": [
    {
     "name": "stdout",
     "output_type": "stream",
     "text": [
      "interest_level\n",
      "high       3839\n",
      "low       34284\n",
      "medium    11229\n",
      "dtype: int64\n"
     ]
    }
   ],
   "source": [
    "print(training_data.groupby('interest_level').size())"
   ]
  },
  {
   "cell_type": "markdown",
   "metadata": {},
   "source": [
    "To start with, let's plot scatter matrices for these three classes for bathrooms, bedrooms and price."
   ]
  },
  {
   "cell_type": "code",
   "execution_count": 5,
   "metadata": {},
   "outputs": [
    {
     "name": "stdout",
     "output_type": "stream",
     "text": [
      "Scatter matrix - Low interest class\n"
     ]
    },
    {
     "data": {
      "image/png": "[encoded data removed]",
      "text/plain": [
       "<matplotlib.figure.Figure at 0x7f3dc29c4d30>"
      ]
     },
     "metadata": {},
     "output_type": "display_data"
    }
   ],
   "source": [
    "import matplotlib.pyplot as plt\n",
    "from pandas.plotting import scatter_matrix\n",
    "axs = scatter_matrix(training_data[training_data.interest_level == 'low'][['bathrooms', 'bedrooms', 'price']], figsize=(7,7))\n",
    "print('Scatter matrix - Low interest class')\n",
    "plt.show()"
   ]
  },
  {
   "cell_type": "code",
   "execution_count": 6,
   "metadata": {},
   "outputs": [
    {
     "name": "stdout",
     "output_type": "stream",
     "text": [
      "Scatter matrix - Medium interest class\n"
     ]
    },
    {
     "data": {
      "image/png": "[encoded data removed]",
      "text/plain": [
       "<matplotlib.figure.Figure at 0x7f3dc29a6240>"
      ]
     },
     "metadata": {},
     "output_type": "display_data"
    }
   ],
   "source": [
    "axs = scatter_matrix(training_data[training_data.interest_level == 'medium'][['bathrooms', 'bedrooms', 'price']], figsize=(7,7))\n",
    "print('Scatter matrix - Medium interest class')\n",
    "plt.show()"
   ]
  },
  {
   "cell_type": "code",
   "execution_count": 7,
   "metadata": {},
   "outputs": [
    {
     "name": "stdout",
     "output_type": "stream",
     "text": [
      "Scatter matrix - High interest class\n"
     ]
    },
    {
     "data": {
      "image/png": "[encoded data removed]",
      "text/plain": [
       "<matplotlib.figure.Figure at 0x7f3dc2529ba8>"
      ]
     },
     "metadata": {},
     "output_type": "display_data"
    }
   ],
   "source": [
    "axs = scatter_matrix(training_data[training_data.interest_level == 'high'][['bathrooms', 'bedrooms', 'price']], figsize=(7,7))\n",
    "print('Scatter matrix - High interest class')\n",
    "plt.show()"
   ]
  },
  {
   "cell_type": "markdown",
   "metadata": {},
   "source": [
    "We note that at low interest level number of bathrooms equal to 1, whereas for medium and high is bigger. The number of bedrooms seems important for low and medium levels, but for high appears in a particular distribution. Also, price is spread for medium interest, but seems highly concentrated for other classes. Overall, these matrix scatter plots seem to justify to an extend the loss model adopted by renthop.com.\n",
    "\n",
    "Finally, here an scatter plot of the categories using latitude and longitude (we discarded some data points that were zeros)"
   ]
  },
  {
   "cell_type": "code",
   "execution_count": 8,
   "metadata": {},
   "outputs": [
    {
     "data": {
      "image/png": "[encoded data removed]",
      "text/plain": [
       "<matplotlib.figure.Figure at 0x7f3dc2be45f8>"
      ]
     },
     "metadata": {},
     "output_type": "display_data"
    }
   ],
   "source": [
    "def plot_lat_lon():\n",
    "    global training_data\n",
    "    data = training_data[(training_data.longitude < 0) & (training_data.latitude > 0)]\n",
    "    plt.figure(figsize=(7,6))\n",
    "    for klass in ['low', 'medium', 'high']:\n",
    "        subdata = data[data.interest_level == klass]\n",
    "        plt.scatter(subdata['longitude'], subdata['latitude'], alpha=0.4)\n",
    "    plt.legend(['low', 'medium', 'high'])\n",
    "    plt.show()\n",
    "plot_lat_lon()"
   ]
  },
  {
   "cell_type": "markdown",
   "metadata": {},
   "source": [
    "We see that geolocation is important for high interest: only listings close to a certain location can be of high interest."
   ]
  },
  {
   "cell_type": "markdown",
   "metadata": {},
   "source": [
    "## Random forrest model\n",
    "\n",
    "We pick as independent variables `bathrooms` ($X_{ba}$), `bedrooms` ($X_{be}$), `price` ($X_{pr}$), `latitude` ($X_{la}$) and `longitude` ($X_{lo}$) to define a model based on Random Forest which is part of [sklearn](http://scikit-learn.org/stable/modules/generated/sklearn.ensemble.RandomForestClassifier.html). This choice is motivated by the plots above, that show that simple splits on few variables may suffice to classify the points in the data - an approach suitable for decision trees.\n",
    "\n",
    "RandomForrest in sklearn has two convinience methods that serve our purposes. The method `predict_proba` is what we would need to submit an entry to the Kaggle challenge. On the other hand, `predict` returns the predicted classes, so we can directly compare against a training dataset."
   ]
  },
  {
   "cell_type": "code",
   "execution_count": 9,
   "metadata": {},
   "outputs": [],
   "source": [
    "from sklearn.ensemble import RandomForestClassifier\n",
    "\n",
    "class Model1(object):\n",
    "    \"\"\"An application of RandomForestClassifier for the renthop.com data\"\"\"\n",
    "    def fit(self, data):\n",
    "        \"\"\"Trains the classifier with given DataFrame\"\"\"\n",
    "        xs = data[['bathrooms', 'bedrooms', 'price', 'latitude', 'longitude']].as_matrix()\n",
    "        self.rfc = RandomForestClassifier(max_features=None)\n",
    "        self.rfc.fit(xs, data.interest_level)\n",
    "\n",
    "    def probabilities(self, points):\n",
    "        \"\"\"Calculate probabilites for each classification of points.\n",
    "\n",
    "        Returns:\n",
    "            DataFrame:\n",
    "                A pandas dataframe with columsn per class and rows correspoding\n",
    "                probabilities for each point in points\n",
    "        \"\"\"\n",
    "        df = pandas.DataFrame(self.rfc.predict_proba(points), columns=self.rfc.classes_)\n",
    "        return df\n",
    "\n",
    "    def classify(self, points):\n",
    "        \"\"\"Perform direct classification picking the class with highest probability\"\"\"\n",
    "        return self.rfc.predict(points)\n",
    "\n",
    "    def log_probabilities(self, points):\n",
    "        \"\"\"Similar to `probabilities` but returns logarithms.\"\"\"\n",
    "        df = pandas.DataFrame(-self.rfc.predict_log_proba(points), columns=self.rfc.classes_)\n",
    "        return df\n",
    "\n",
    "\n",
    "# Train the model on a subset of the training data for illustrative purposes\n",
    "mod1 = Model1()\n",
    "mod1.fit(training_data.iloc[0:40000])"
   ]
  },
  {
   "cell_type": "markdown",
   "metadata": {},
   "source": [
    "## Evaluate model\n",
    "\n",
    "To finalise, we calculate an overall accuracy value for the model as defined in the Kaggle challenge passing the model through unseen data."
   ]
  },
  {
   "cell_type": "code",
   "execution_count": 10,
   "metadata": {},
   "outputs": [
    {
     "name": "stdout",
     "output_type": "stream",
     "text": [
      "Score 0.515548\n"
     ]
    },
    {
     "name": "stderr",
     "output_type": "stream",
     "text": [
      "/opt/ds/lib/python3.4/site-packages/sklearn/ensemble/forest.py:620: RuntimeWarning: divide by zero encountered in log\n",
      "  return np.log(proba)\n"
     ]
    }
   ],
   "source": [
    "import numpy as np\n",
    "LEVEL_TO_ARRAY = dict(low=[1,0,0], medium=[0,1,0], high=[0,0,1])\n",
    "\n",
    "def logloss(model, test_data):\n",
    "    coords = test_data[['bathrooms', 'bedrooms', 'price', 'latitude', 'longitude']].as_matrix()\n",
    "    test_classes = np.array(list(map(lambda v: LEVEL_TO_ARRAY[v], list(test_data.interest_level))))\n",
    "    logprobs = model.log_probabilities(coords)[['low', 'medium', 'high']].as_matrix()\n",
    "    logprobs[logprobs == np.inf] = 0\n",
    "    logprobs[logprobs == np.nan] = 0\n",
    "    prod = np.multiply(test_classes, logprobs)\n",
    "    return (np.nansum(prod) / test_data.shape[0])\n",
    "\n",
    "print('Score %f' % logloss(mod1, training_data.iloc[40000:]))"
   ]
  },
  {
   "cell_type": "markdown",
   "metadata": {},
   "source": [
    "This is comparable to the winner score (actually higher) but there are many things to do before we can be sure the model performs well. First, we are not sure if the model is overfitting the data. A better strategy would be to use k-fold cross validation to fine tune a number of parameters required by RandomForest, e.g. the number of estimators.\n",
    "\n",
    "Also, we did not use any of the text features! If further improvements can be achieved over RandomForrest by extracting additional features from descriptions and text then the model will may improve beyond the best in the leader board."
   ]
  }
 ],
 "metadata": {
  "kernelspec": {
   "display_name": "Python 3",
   "language": "python",
   "name": "python3"
  },
  "language_info": {
   "codemirror_mode": {
    "name": "ipython",
    "version": 3
   },
   "file_extension": ".py",
   "mimetype": "text/x-python",
   "name": "python",
   "nbconvert_exporter": "python",
   "pygments_lexer": "ipython3",
   "version": "3.4.3"
  }
 },
 "nbformat": 4,
 "nbformat_minor": 1
}
